{
 "cells": [
  {
   "cell_type": "markdown",
   "id": "db92cda3",
   "metadata": {
    "vscode": {
     "languageId": "plaintext"
    }
   },
   "source": [
    "# 01. EDA & Data Preprocessing Notebook"
   ]
  },
  {
   "cell_type": "markdown",
   "id": "f4175aa7",
   "metadata": {},
   "source": [
    "## Table of content\n",
    "\n",
    "- [Introduction](#01.1-introduction)\n",
    "- [Data Collection](#01.2-data-collection)\n"
   ]
  },
  {
   "cell_type": "markdown",
   "id": "5da7467a",
   "metadata": {},
   "source": [
    "### 01.1 Introduction"
   ]
  },
  {
   "cell_type": "markdown",
   "id": "f99c815f",
   "metadata": {},
   "source": [
    "This notebook addresses the challenge of customer churn prediction, a critical issue for businesses aiming to retain their customers and reduce revenue loss. By analyzing historical customer data, we seek to identify patterns and factors that contribute to customer attrition. The insights gained from this exploratory data analysis (EDA) and preprocessing will lay the foundation for building effective predictive models, enabling proactive strategies to improve customer retention."
   ]
  },
  {
   "cell_type": "code",
   "execution_count": null,
   "id": "3515279d",
   "metadata": {},
   "outputs": [],
   "source": [
    "import pandas as pd\n",
    "import numpy as np\n",
    "import matplotlib.pyplot as plt\n",
    "import seaborn as sns\n",
    "\n",
    "\n",
    "import os\n",
    "import sys\n",
    "\n"
   ]
  },
  {
   "cell_type": "code",
   "execution_count": null,
   "id": "a140c9b0",
   "metadata": {},
   "outputs": [
    {
     "name": "stdout",
     "output_type": "stream",
     "text": [
      "c:\\Users\\abdoi\\DataspellProjects\\customer-churn-prediction-docker\\notebooks\n",
      "c:\\Users\\abdoi\\DataspellProjects\\customer-churn-prediction-docker\n",
      "c:\\Users\\abdoi\\DataspellProjects\\customer-churn-prediction-docker\\src\n"
     ]
    }
   ],
   "source": [
    "# get the current working Directory\n",
    "current_dir = os.getcwd()\n",
    "print(current_dir)\n",
    "\n",
    "# getting project root directry\n",
    "project_dir = os.path.dirname(current_dir)\n",
    "print(project_dir)\n",
    "\n",
    "# joining path to form src folder's absolute path\n",
    "src_dir_path = os.path.join(project_dir, 'src')\n",
    "print(src_dir_path)\n",
    "\n",
    "# appending src package to python PATH\n",
    "sys.path.append(src_dir_path)"
   ]
  },
  {
   "cell_type": "markdown",
   "id": "e5a0fb7c",
   "metadata": {},
   "source": [
    "### 01.2 Data Collection"
   ]
  },
  {
   "cell_type": "code",
   "execution_count": 16,
   "id": "985e3e23",
   "metadata": {},
   "outputs": [
    {
     "name": "stdout",
     "output_type": "stream",
     "text": [
      "Dataset URL: https://www.kaggle.com/datasets/blastchar/telco-customer-churn\n",
      "Dataset blastchar/telco-customer-churn downloaded and extracted to ../data/raw/.\n"
     ]
    }
   ],
   "source": [
    "from utils import download_kaggle_dataset\n",
    "\n",
    "download_kaggle_dataset(\"blastchar/telco-customer-churn\", \"../data/raw/\")"
   ]
  },
  {
   "cell_type": "markdown",
   "id": "a21b064e",
   "metadata": {},
   "source": []
  },
  {
   "cell_type": "code",
   "execution_count": null,
   "id": "a6b2f7d6",
   "metadata": {},
   "outputs": [],
   "source": []
  },
  {
   "cell_type": "code",
   "execution_count": null,
   "id": "855760db",
   "metadata": {},
   "outputs": [],
   "source": []
  }
 ],
 "metadata": {
  "kernelspec": {
   "display_name": "pt_env",
   "language": "python",
   "name": "python3"
  },
  "language_info": {
   "codemirror_mode": {
    "name": "ipython",
    "version": 3
   },
   "file_extension": ".py",
   "mimetype": "text/x-python",
   "name": "python",
   "nbconvert_exporter": "python",
   "pygments_lexer": "ipython3",
   "version": "3.12.9"
  }
 },
 "nbformat": 4,
 "nbformat_minor": 5
}
